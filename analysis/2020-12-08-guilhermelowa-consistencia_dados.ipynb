{
 "cells": [
  {
   "cell_type": "code",
   "execution_count": 69,
   "metadata": {
    "tags": []
   },
   "outputs": [],
   "source": [
    "import pandas as pd\n",
    "import matplotlib.pyplot as plt\n",
    "import numpy as np\n",
    "import re\n",
    "import unicodedata\n",
    "from nltk.corpus import stopwords"
   ]
  },
  {
   "cell_type": "code",
   "execution_count": 70,
   "metadata": {
    "tags": []
   },
   "outputs": [
    {
     "output_type": "stream",
     "name": "stdout",
     "text": "<class 'pandas.core.frame.DataFrame'>\nRangeIndex: 427873 entries, 0 to 427872\nData columns (total 15 columns):\n #   Column                   Non-Null Count   Dtype \n---  ------                   --------------   ----- \n 0   data_publicacao          427873 non-null  object\n 1   fase                     427873 non-null  object\n 2   credor                   427873 non-null  object\n 3   valor                    427873 non-null  object\n 4   numero                   427873 non-null  object\n 5   cpf_ou_cnpj              427873 non-null  object\n 6   data_pagamento           427873 non-null  object\n 7   numero_processo          253290 non-null  object\n 8   bem_ou_servico_prestado  420978 non-null  object\n 9   natureza                 422333 non-null  object\n 10  acao                     407378 non-null  object\n 11  funcao                   407414 non-null  object\n 12  subfuncao                407405 non-null  object\n 13  processo_licitatorio     407396 non-null  object\n 14  fonte_recurso            407405 non-null  object\ndtypes: object(15)\nmemory usage: 49.0+ MB\ndata_publicacao              2624\nfase                            3\ncredor                       8831\nvalor                      124055\nnumero                     193494\ncpf_ou_cnpj                  7828\ndata_pagamento               2624\nnumero_processo             17919\nbem_ou_servico_prestado    149798\nnatureza                      833\nacao                         1090\nfuncao                         48\nsubfuncao                      75\nprocesso_licitatorio           26\nfonte_recurso                  39\ndtype: int64\n"
    },
    {
     "output_type": "execute_result",
     "data": {
      "text/plain": "  data_publicacao     fase                          credor             valor  \\\n0      01/01/2010  EMPENHO  METALPIRES  INDUSTRIA E COM LT  R$    203.690,00   \n1      01/01/2010  EMPENHO   INST.NAC.DE SEGURIDADE SOCIAL  R$  1.500.000,00   \n2      01/01/2010  EMPENHO  GASAUTO  LOCAC?O DE VEICULOS L  R$     18.816,00   \n3      02/01/2010  EMPENHO      SALUSTIANO JOSE ALVES DIAS  R$      4.800,00   \n4      02/01/2010  EMPENHO        VALDEANE DOS SANTOS DIAS  R$      3.600,00   \n\n     numero         cpf_ou_cnpj data_pagamento numero_processo  \\\n0  10000348  06.965.538/0001-00     01/01/2010        157/2009   \n1  10000195  01.404.357/0001-51     01/01/2010             NaN   \n2  113/2009  00.426.288/0001-58     01/01/2010        039/2009   \n3  10000024      407.981.865-34     02/01/2010        230/2007   \n4  10000494      006.534.185-66     02/01/2010             NaN   \n\n                             bem_ou_servico_prestado  \\\n0  REF AQUISICAO DE MOBILIARIOS E EQUIPAMENTOS PA...   \n1  REFERENTE A DESPESA COM PARCE- LAMENTO  DA  DI...   \n2  locac?o de 04 motocicletas 150cc com com parti...   \n3  TERMO DE RENOVACAO DO ADITIVO  5025271/2009, R...   \n4  REF. ALUGUEL DO IMOVEL ONDE    FUNCIONA O NUCL...   \n\n                                      natureza  \\\n0  449052090000 - Out.Equip. e Mat. Permanente   \n1             469071030000 - INSS/PARCELAMENTO   \n2           339039780000 - locacao de veiculos   \n3           339039780000 - locacao de veiculos   \n4            339039100000 - Locacao de imoveis   \n\n                                                acao                   funcao  \\\n0  2040 - Equipar e Reequipar Unidades Escolares ...            12 - EDUCACAO   \n1          2145 - Administracao de encagos especiais  28 - ENCARGOS ESPECIAIS   \n2                       2141 - Seguranca no transito          26 - TRANSPORTE   \n3              2097 - Pavimentacao e infra-estrutura           15 - URBANISMO   \n4       2084 - Programa Errad.Trabalho Infantil PETI  08 - ASSISTENCIA SOCIAL   \n\n                              subfuncao processo_licitatorio  \\\n0              361 - ENSINO FUNDAMENTAL               PREGAO   \n1       843 - SERVICO DA DIVIDA INTERNA               ISENTO   \n2                452 - SERVICOS URBANOS              CONVITE   \n3          451 - INFRA-ESTRUTURA URBANA      TOMADA DE PRECO   \n4  243 - ASSISTENCIA A CRIANCA E AO ADO               ISENTO   \n\n                        fonte_recurso  \n0  0001 - REC.IMP.TRANSF.EDUCACAO 25%  \n1          0000 - RECURSOS ORDINARIOS  \n2        0050 - REC.PROPRIAS ENT.ADM.  \n3          0000 - RECURSOS ORDINARIOS  \n4          0000 - RECURSOS ORDINARIOS  ",
      "text/html": "<div>\n<style scoped>\n    .dataframe tbody tr th:only-of-type {\n        vertical-align: middle;\n    }\n\n    .dataframe tbody tr th {\n        vertical-align: top;\n    }\n\n    .dataframe thead th {\n        text-align: right;\n    }\n</style>\n<table border=\"1\" class=\"dataframe\">\n  <thead>\n    <tr style=\"text-align: right;\">\n      <th></th>\n      <th>data_publicacao</th>\n      <th>fase</th>\n      <th>credor</th>\n      <th>valor</th>\n      <th>numero</th>\n      <th>cpf_ou_cnpj</th>\n      <th>data_pagamento</th>\n      <th>numero_processo</th>\n      <th>bem_ou_servico_prestado</th>\n      <th>natureza</th>\n      <th>acao</th>\n      <th>funcao</th>\n      <th>subfuncao</th>\n      <th>processo_licitatorio</th>\n      <th>fonte_recurso</th>\n    </tr>\n  </thead>\n  <tbody>\n    <tr>\n      <th>0</th>\n      <td>01/01/2010</td>\n      <td>EMPENHO</td>\n      <td>METALPIRES  INDUSTRIA E COM LT</td>\n      <td>R$    203.690,00</td>\n      <td>10000348</td>\n      <td>06.965.538/0001-00</td>\n      <td>01/01/2010</td>\n      <td>157/2009</td>\n      <td>REF AQUISICAO DE MOBILIARIOS E EQUIPAMENTOS PA...</td>\n      <td>449052090000 - Out.Equip. e Mat. Permanente</td>\n      <td>2040 - Equipar e Reequipar Unidades Escolares ...</td>\n      <td>12 - EDUCACAO</td>\n      <td>361 - ENSINO FUNDAMENTAL</td>\n      <td>PREGAO</td>\n      <td>0001 - REC.IMP.TRANSF.EDUCACAO 25%</td>\n    </tr>\n    <tr>\n      <th>1</th>\n      <td>01/01/2010</td>\n      <td>EMPENHO</td>\n      <td>INST.NAC.DE SEGURIDADE SOCIAL</td>\n      <td>R$  1.500.000,00</td>\n      <td>10000195</td>\n      <td>01.404.357/0001-51</td>\n      <td>01/01/2010</td>\n      <td>NaN</td>\n      <td>REFERENTE A DESPESA COM PARCE- LAMENTO  DA  DI...</td>\n      <td>469071030000 - INSS/PARCELAMENTO</td>\n      <td>2145 - Administracao de encagos especiais</td>\n      <td>28 - ENCARGOS ESPECIAIS</td>\n      <td>843 - SERVICO DA DIVIDA INTERNA</td>\n      <td>ISENTO</td>\n      <td>0000 - RECURSOS ORDINARIOS</td>\n    </tr>\n    <tr>\n      <th>2</th>\n      <td>01/01/2010</td>\n      <td>EMPENHO</td>\n      <td>GASAUTO  LOCAC?O DE VEICULOS L</td>\n      <td>R$     18.816,00</td>\n      <td>113/2009</td>\n      <td>00.426.288/0001-58</td>\n      <td>01/01/2010</td>\n      <td>039/2009</td>\n      <td>locac?o de 04 motocicletas 150cc com com parti...</td>\n      <td>339039780000 - locacao de veiculos</td>\n      <td>2141 - Seguranca no transito</td>\n      <td>26 - TRANSPORTE</td>\n      <td>452 - SERVICOS URBANOS</td>\n      <td>CONVITE</td>\n      <td>0050 - REC.PROPRIAS ENT.ADM.</td>\n    </tr>\n    <tr>\n      <th>3</th>\n      <td>02/01/2010</td>\n      <td>EMPENHO</td>\n      <td>SALUSTIANO JOSE ALVES DIAS</td>\n      <td>R$      4.800,00</td>\n      <td>10000024</td>\n      <td>407.981.865-34</td>\n      <td>02/01/2010</td>\n      <td>230/2007</td>\n      <td>TERMO DE RENOVACAO DO ADITIVO  5025271/2009, R...</td>\n      <td>339039780000 - locacao de veiculos</td>\n      <td>2097 - Pavimentacao e infra-estrutura</td>\n      <td>15 - URBANISMO</td>\n      <td>451 - INFRA-ESTRUTURA URBANA</td>\n      <td>TOMADA DE PRECO</td>\n      <td>0000 - RECURSOS ORDINARIOS</td>\n    </tr>\n    <tr>\n      <th>4</th>\n      <td>02/01/2010</td>\n      <td>EMPENHO</td>\n      <td>VALDEANE DOS SANTOS DIAS</td>\n      <td>R$      3.600,00</td>\n      <td>10000494</td>\n      <td>006.534.185-66</td>\n      <td>02/01/2010</td>\n      <td>NaN</td>\n      <td>REF. ALUGUEL DO IMOVEL ONDE    FUNCIONA O NUCL...</td>\n      <td>339039100000 - Locacao de imoveis</td>\n      <td>2084 - Programa Errad.Trabalho Infantil PETI</td>\n      <td>08 - ASSISTENCIA SOCIAL</td>\n      <td>243 - ASSISTENCIA A CRIANCA E AO ADO</td>\n      <td>ISENTO</td>\n      <td>0000 - RECURSOS ORDINARIOS</td>\n    </tr>\n  </tbody>\n</table>\n</div>"
     },
     "metadata": {},
     "execution_count": 70
    }
   ],
   "source": [
    "pagamentos = pd.read_csv('pagamentos.csv')\n",
    "pagamentos.info()\n",
    "print(pagamentos.nunique())\n",
    "pagamentos.head()"
   ]
  },
  {
   "cell_type": "code",
   "execution_count": 72,
   "metadata": {
    "tags": []
   },
   "outputs": [
    {
     "output_type": "stream",
     "name": "stdout",
     "text": "Numero de entradas duplicadas: 21316\nNumero de entradas unicas: 160211\n"
    }
   ],
   "source": [
    "# O que são essas entradas duplicadas? Pq que existe elas?\n",
    "num_entradas = len(pagamentos)\n",
    "pagamentos = pagamentos.drop_duplicates()\n",
    "num_entradas_unicas = len(pagamentos)\n",
    "print(f'Numero de entradas duplicadas: {num_entradas - num_entradas_unicas}\\nNumero de entradas unicas: {num_entradas_unicas}')"
   ]
  },
  {
   "cell_type": "code",
   "execution_count": 68,
   "metadata": {
    "tags": []
   },
   "outputs": [
    {
     "output_type": "execute_result",
     "data": {
      "text/plain": "  data_publicacao     fase                      credor      valor    numero  \\\n0      01/01/2010  EMPENHO     metalpires industria lt   203690.0  10000348   \n1      01/01/2010  EMPENHO  inst nac seguridade social  1500000.0  10000195   \n2      01/01/2010  EMPENHO    gasauto locac veiculos l    18816.0  113/2009   \n3      02/01/2010  EMPENHO  salustiano jose alves dias     4800.0  10000024   \n4      02/01/2010  EMPENHO        valdeane santos dias     3600.0  10000494   \n\n          cpf_ou_cnpj data_pagamento numero_processo  \\\n0  06.965.538/0001-00     01/01/2010        157/2009   \n1  01.404.357/0001-51     01/01/2010             NaN   \n2  00.426.288/0001-58     01/01/2010        039/2009   \n3      407.981.865-34     02/01/2010        230/2007   \n4      006.534.185-66     02/01/2010             NaN   \n\n                             bem_ou_servico_prestado  \\\n0  ref aquisicao mobiliarios equipamentos diversa...   \n1  referente despesa parce lamento divida inss pr...   \n2  locac motocicletas partida servir smt partir e...   \n3  termo renovacao aditivo referente loca cao cam...   \n4  ref aluguel imovel onde funciona nucleo progra...   \n\n                   natureza  \\\n0  out equip mat permanente   \n1         inss parcelamento   \n2          locacao veiculos   \n3          locacao veiculos   \n4           locacao imoveis   \n\n                                                acao              funcao  \\\n0  equipar reequipar unidades escolares rede muni...            educacao   \n1                    administracao encagos especiais  encargos especiais   \n2                                 seguranca transito          transporte   \n3                       pavimentacao infra estrutura           urbanismo   \n4              programa errad trabalho infantil peti  assistencia social   \n\n                 subfuncao processo_licitatorio            fonte_recurso  \n0       ensino fundamental               pregao  rec imp transf educacao  \n1   servico divida interna               isento      recursos ordinarios  \n2         servicos urbanos              convite     rec proprias ent adm  \n3   infra estrutura urbana      tomada de preco      recursos ordinarios  \n4  assistencia crianca ado               isento      recursos ordinarios  ",
      "text/html": "<div>\n<style scoped>\n    .dataframe tbody tr th:only-of-type {\n        vertical-align: middle;\n    }\n\n    .dataframe tbody tr th {\n        vertical-align: top;\n    }\n\n    .dataframe thead th {\n        text-align: right;\n    }\n</style>\n<table border=\"1\" class=\"dataframe\">\n  <thead>\n    <tr style=\"text-align: right;\">\n      <th></th>\n      <th>data_publicacao</th>\n      <th>fase</th>\n      <th>credor</th>\n      <th>valor</th>\n      <th>numero</th>\n      <th>cpf_ou_cnpj</th>\n      <th>data_pagamento</th>\n      <th>numero_processo</th>\n      <th>bem_ou_servico_prestado</th>\n      <th>natureza</th>\n      <th>acao</th>\n      <th>funcao</th>\n      <th>subfuncao</th>\n      <th>processo_licitatorio</th>\n      <th>fonte_recurso</th>\n    </tr>\n  </thead>\n  <tbody>\n    <tr>\n      <th>0</th>\n      <td>01/01/2010</td>\n      <td>EMPENHO</td>\n      <td>metalpires industria lt</td>\n      <td>203690.0</td>\n      <td>10000348</td>\n      <td>06.965.538/0001-00</td>\n      <td>01/01/2010</td>\n      <td>157/2009</td>\n      <td>ref aquisicao mobiliarios equipamentos diversa...</td>\n      <td>out equip mat permanente</td>\n      <td>equipar reequipar unidades escolares rede muni...</td>\n      <td>educacao</td>\n      <td>ensino fundamental</td>\n      <td>pregao</td>\n      <td>rec imp transf educacao</td>\n    </tr>\n    <tr>\n      <th>1</th>\n      <td>01/01/2010</td>\n      <td>EMPENHO</td>\n      <td>inst nac seguridade social</td>\n      <td>1500000.0</td>\n      <td>10000195</td>\n      <td>01.404.357/0001-51</td>\n      <td>01/01/2010</td>\n      <td>NaN</td>\n      <td>referente despesa parce lamento divida inss pr...</td>\n      <td>inss parcelamento</td>\n      <td>administracao encagos especiais</td>\n      <td>encargos especiais</td>\n      <td>servico divida interna</td>\n      <td>isento</td>\n      <td>recursos ordinarios</td>\n    </tr>\n    <tr>\n      <th>2</th>\n      <td>01/01/2010</td>\n      <td>EMPENHO</td>\n      <td>gasauto locac veiculos l</td>\n      <td>18816.0</td>\n      <td>113/2009</td>\n      <td>00.426.288/0001-58</td>\n      <td>01/01/2010</td>\n      <td>039/2009</td>\n      <td>locac motocicletas partida servir smt partir e...</td>\n      <td>locacao veiculos</td>\n      <td>seguranca transito</td>\n      <td>transporte</td>\n      <td>servicos urbanos</td>\n      <td>convite</td>\n      <td>rec proprias ent adm</td>\n    </tr>\n    <tr>\n      <th>3</th>\n      <td>02/01/2010</td>\n      <td>EMPENHO</td>\n      <td>salustiano jose alves dias</td>\n      <td>4800.0</td>\n      <td>10000024</td>\n      <td>407.981.865-34</td>\n      <td>02/01/2010</td>\n      <td>230/2007</td>\n      <td>termo renovacao aditivo referente loca cao cam...</td>\n      <td>locacao veiculos</td>\n      <td>pavimentacao infra estrutura</td>\n      <td>urbanismo</td>\n      <td>infra estrutura urbana</td>\n      <td>tomada de preco</td>\n      <td>recursos ordinarios</td>\n    </tr>\n    <tr>\n      <th>4</th>\n      <td>02/01/2010</td>\n      <td>EMPENHO</td>\n      <td>valdeane santos dias</td>\n      <td>3600.0</td>\n      <td>10000494</td>\n      <td>006.534.185-66</td>\n      <td>02/01/2010</td>\n      <td>NaN</td>\n      <td>ref aluguel imovel onde funciona nucleo progra...</td>\n      <td>locacao imoveis</td>\n      <td>programa errad trabalho infantil peti</td>\n      <td>assistencia social</td>\n      <td>assistencia crianca ado</td>\n      <td>isento</td>\n      <td>recursos ordinarios</td>\n    </tr>\n  </tbody>\n</table>\n</div>"
     },
     "metadata": {},
     "execution_count": 68
    }
   ],
   "source": [
    "pagamentos.head()\n",
    "# for i in range(10):\n",
    "#     print(pagamentos.loc[i, 'bem_ou_servico_prestado'])"
   ]
  },
  {
   "cell_type": "markdown",
   "metadata": {},
   "source": [
    "# Investigar\n",
    "Do print acima a gente pode ver que:\n",
    "\n",
    "Das 427.873 entradas, só existem 193.494 números.\n",
    "\n",
    "Existem 8831 credores (nome) mas só 7828 (cpnj). Por que? Typos etc? Conferir\n",
    "\n",
    "Existem 193.494 números, mas só 17.919 números de processo. O que representam esses números | números de processo\n"
   ]
  },
  {
   "cell_type": "code",
   "execution_count": 316,
   "metadata": {
    "tags": []
   },
   "outputs": [
    {
     "output_type": "error",
     "ename": "KeyError",
     "evalue": "'numero'",
     "traceback": [
      "\u001b[0;31m---------------------------------------------------------------------------\u001b[0m",
      "\u001b[0;31mKeyError\u001b[0m                                  Traceback (most recent call last)",
      "\u001b[0;32m<ipython-input-316-8e470b13693e>\u001b[0m in \u001b[0;36m<module>\u001b[0;34m\u001b[0m\n\u001b[1;32m      1\u001b[0m \u001b[0;31m# Investigando numero x numero_processo. O que significa numero?\u001b[0m\u001b[0;34m\u001b[0m\u001b[0;34m\u001b[0m\u001b[0;34m\u001b[0m\u001b[0m\n\u001b[0;32m----> 2\u001b[0;31m \u001b[0mgp_numero\u001b[0m \u001b[0;34m=\u001b[0m \u001b[0mpagamentos\u001b[0m\u001b[0;34m.\u001b[0m\u001b[0mgroupby\u001b[0m\u001b[0;34m(\u001b[0m\u001b[0;34m'numero'\u001b[0m\u001b[0;34m)\u001b[0m\u001b[0;34m\u001b[0m\u001b[0;34m\u001b[0m\u001b[0m\n\u001b[0m\u001b[1;32m      3\u001b[0m \u001b[0mprint\u001b[0m\u001b[0;34m(\u001b[0m\u001b[0mgp_numero\u001b[0m\u001b[0;34m.\u001b[0m\u001b[0mcount\u001b[0m\u001b[0;34m(\u001b[0m\u001b[0;34m)\u001b[0m\u001b[0;34m.\u001b[0m\u001b[0msort_values\u001b[0m\u001b[0;34m(\u001b[0m\u001b[0;34m'numero_processo'\u001b[0m\u001b[0;34m,\u001b[0m \u001b[0mascending\u001b[0m\u001b[0;34m=\u001b[0m\u001b[0;32mFalse\u001b[0m\u001b[0;34m)\u001b[0m\u001b[0;34m)\u001b[0m\u001b[0;34m\u001b[0m\u001b[0;34m\u001b[0m\u001b[0m\n\u001b[1;32m      4\u001b[0m \u001b[0mprint\u001b[0m \u001b[0;34m(\u001b[0m\u001b[0;34m'\\n\\n- # # # # # # -\\n\\n'\u001b[0m\u001b[0;34m)\u001b[0m\u001b[0;34m\u001b[0m\u001b[0;34m\u001b[0m\u001b[0m\n\u001b[1;32m      5\u001b[0m \u001b[0mgp_numero\u001b[0m\u001b[0;34m.\u001b[0m\u001b[0mnunique\u001b[0m\u001b[0;34m(\u001b[0m\u001b[0;34m)\u001b[0m\u001b[0;34m.\u001b[0m\u001b[0msort_values\u001b[0m\u001b[0;34m(\u001b[0m\u001b[0;34m'numero_processo'\u001b[0m\u001b[0;34m,\u001b[0m \u001b[0mascending\u001b[0m\u001b[0;34m=\u001b[0m\u001b[0;32mFalse\u001b[0m\u001b[0;34m)\u001b[0m\u001b[0;34m\u001b[0m\u001b[0;34m\u001b[0m\u001b[0m\n",
      "\u001b[0;32m~/.local/lib/python3.8/site-packages/pandas/core/frame.py\u001b[0m in \u001b[0;36mgroupby\u001b[0;34m(self, by, axis, level, as_index, sort, group_keys, squeeze, observed)\u001b[0m\n\u001b[1;32m   5799\u001b[0m         \u001b[0maxis\u001b[0m \u001b[0;34m=\u001b[0m \u001b[0mself\u001b[0m\u001b[0;34m.\u001b[0m\u001b[0m_get_axis_number\u001b[0m\u001b[0;34m(\u001b[0m\u001b[0maxis\u001b[0m\u001b[0;34m)\u001b[0m\u001b[0;34m\u001b[0m\u001b[0;34m\u001b[0m\u001b[0m\n\u001b[1;32m   5800\u001b[0m \u001b[0;34m\u001b[0m\u001b[0m\n\u001b[0;32m-> 5801\u001b[0;31m         return groupby_generic.DataFrameGroupBy(\n\u001b[0m\u001b[1;32m   5802\u001b[0m             \u001b[0mobj\u001b[0m\u001b[0;34m=\u001b[0m\u001b[0mself\u001b[0m\u001b[0;34m,\u001b[0m\u001b[0;34m\u001b[0m\u001b[0;34m\u001b[0m\u001b[0m\n\u001b[1;32m   5803\u001b[0m             \u001b[0mkeys\u001b[0m\u001b[0;34m=\u001b[0m\u001b[0mby\u001b[0m\u001b[0;34m,\u001b[0m\u001b[0;34m\u001b[0m\u001b[0;34m\u001b[0m\u001b[0m\n",
      "\u001b[0;32m~/.local/lib/python3.8/site-packages/pandas/core/groupby/groupby.py\u001b[0m in \u001b[0;36m__init__\u001b[0;34m(self, obj, keys, axis, level, grouper, exclusions, selection, as_index, sort, group_keys, squeeze, observed, mutated)\u001b[0m\n\u001b[1;32m    401\u001b[0m             \u001b[0;32mfrom\u001b[0m \u001b[0mpandas\u001b[0m\u001b[0;34m.\u001b[0m\u001b[0mcore\u001b[0m\u001b[0;34m.\u001b[0m\u001b[0mgroupby\u001b[0m\u001b[0;34m.\u001b[0m\u001b[0mgrouper\u001b[0m \u001b[0;32mimport\u001b[0m \u001b[0mget_grouper\u001b[0m\u001b[0;34m\u001b[0m\u001b[0;34m\u001b[0m\u001b[0m\n\u001b[1;32m    402\u001b[0m \u001b[0;34m\u001b[0m\u001b[0m\n\u001b[0;32m--> 403\u001b[0;31m             grouper, exclusions, obj = get_grouper(\n\u001b[0m\u001b[1;32m    404\u001b[0m                 \u001b[0mobj\u001b[0m\u001b[0;34m,\u001b[0m\u001b[0;34m\u001b[0m\u001b[0;34m\u001b[0m\u001b[0m\n\u001b[1;32m    405\u001b[0m                 \u001b[0mkeys\u001b[0m\u001b[0;34m,\u001b[0m\u001b[0;34m\u001b[0m\u001b[0;34m\u001b[0m\u001b[0m\n",
      "\u001b[0;32m~/.local/lib/python3.8/site-packages/pandas/core/groupby/grouper.py\u001b[0m in \u001b[0;36mget_grouper\u001b[0;34m(obj, key, axis, level, sort, observed, mutated, validate)\u001b[0m\n\u001b[1;32m    598\u001b[0m                 \u001b[0min_axis\u001b[0m\u001b[0;34m,\u001b[0m \u001b[0mname\u001b[0m\u001b[0;34m,\u001b[0m \u001b[0mlevel\u001b[0m\u001b[0;34m,\u001b[0m \u001b[0mgpr\u001b[0m \u001b[0;34m=\u001b[0m \u001b[0;32mFalse\u001b[0m\u001b[0;34m,\u001b[0m \u001b[0;32mNone\u001b[0m\u001b[0;34m,\u001b[0m \u001b[0mgpr\u001b[0m\u001b[0;34m,\u001b[0m \u001b[0;32mNone\u001b[0m\u001b[0;34m\u001b[0m\u001b[0;34m\u001b[0m\u001b[0m\n\u001b[1;32m    599\u001b[0m             \u001b[0;32melse\u001b[0m\u001b[0;34m:\u001b[0m\u001b[0;34m\u001b[0m\u001b[0;34m\u001b[0m\u001b[0m\n\u001b[0;32m--> 600\u001b[0;31m                 \u001b[0;32mraise\u001b[0m \u001b[0mKeyError\u001b[0m\u001b[0;34m(\u001b[0m\u001b[0mgpr\u001b[0m\u001b[0;34m)\u001b[0m\u001b[0;34m\u001b[0m\u001b[0;34m\u001b[0m\u001b[0m\n\u001b[0m\u001b[1;32m    601\u001b[0m         \u001b[0;32melif\u001b[0m \u001b[0misinstance\u001b[0m\u001b[0;34m(\u001b[0m\u001b[0mgpr\u001b[0m\u001b[0;34m,\u001b[0m \u001b[0mGrouper\u001b[0m\u001b[0;34m)\u001b[0m \u001b[0;32mand\u001b[0m \u001b[0mgpr\u001b[0m\u001b[0;34m.\u001b[0m\u001b[0mkey\u001b[0m \u001b[0;32mis\u001b[0m \u001b[0;32mnot\u001b[0m \u001b[0;32mNone\u001b[0m\u001b[0;34m:\u001b[0m\u001b[0;34m\u001b[0m\u001b[0;34m\u001b[0m\u001b[0m\n\u001b[1;32m    602\u001b[0m             \u001b[0;31m# Add key to exclusions\u001b[0m\u001b[0;34m\u001b[0m\u001b[0;34m\u001b[0m\u001b[0;34m\u001b[0m\u001b[0m\n",
      "\u001b[0;31mKeyError\u001b[0m: 'numero'"
     ]
    }
   ],
   "source": [
    "# Investigando numero x numero_processo. O que significa numero?\n",
    "gp_numero = pagamentos.groupby('numero')\n",
    "print(gp_numero.count().sort_values('numero_processo', ascending=False))\n",
    "print ('\\n\\n- # # # # # # -\\n\\n')\n",
    "gp_numero.nunique().sort_values('numero_processo', ascending=False)"
   ]
  },
  {
   "cell_type": "code",
   "execution_count": 317,
   "metadata": {},
   "outputs": [
    {
     "output_type": "error",
     "ename": "KeyError",
     "evalue": "'numero'",
     "traceback": [
      "\u001b[0;31m---------------------------------------------------------------------------\u001b[0m",
      "\u001b[0;31mKeyError\u001b[0m                                  Traceback (most recent call last)",
      "\u001b[0;32m~/.local/lib/python3.8/site-packages/pandas/core/indexes/base.py\u001b[0m in \u001b[0;36mget_loc\u001b[0;34m(self, key, method, tolerance)\u001b[0m\n\u001b[1;32m   2645\u001b[0m             \u001b[0;32mtry\u001b[0m\u001b[0;34m:\u001b[0m\u001b[0;34m\u001b[0m\u001b[0;34m\u001b[0m\u001b[0m\n\u001b[0;32m-> 2646\u001b[0;31m                 \u001b[0;32mreturn\u001b[0m \u001b[0mself\u001b[0m\u001b[0;34m.\u001b[0m\u001b[0m_engine\u001b[0m\u001b[0;34m.\u001b[0m\u001b[0mget_loc\u001b[0m\u001b[0;34m(\u001b[0m\u001b[0mkey\u001b[0m\u001b[0;34m)\u001b[0m\u001b[0;34m\u001b[0m\u001b[0;34m\u001b[0m\u001b[0m\n\u001b[0m\u001b[1;32m   2647\u001b[0m             \u001b[0;32mexcept\u001b[0m \u001b[0mKeyError\u001b[0m\u001b[0;34m:\u001b[0m\u001b[0;34m\u001b[0m\u001b[0;34m\u001b[0m\u001b[0m\n",
      "\u001b[0;32mpandas/_libs/index.pyx\u001b[0m in \u001b[0;36mpandas._libs.index.IndexEngine.get_loc\u001b[0;34m()\u001b[0m\n",
      "\u001b[0;32mpandas/_libs/index.pyx\u001b[0m in \u001b[0;36mpandas._libs.index.IndexEngine.get_loc\u001b[0;34m()\u001b[0m\n",
      "\u001b[0;32mpandas/_libs/hashtable_class_helper.pxi\u001b[0m in \u001b[0;36mpandas._libs.hashtable.PyObjectHashTable.get_item\u001b[0;34m()\u001b[0m\n",
      "\u001b[0;32mpandas/_libs/hashtable_class_helper.pxi\u001b[0m in \u001b[0;36mpandas._libs.hashtable.PyObjectHashTable.get_item\u001b[0;34m()\u001b[0m\n",
      "\u001b[0;31mKeyError\u001b[0m: 'numero'",
      "\nDuring handling of the above exception, another exception occurred:\n",
      "\u001b[0;31mKeyError\u001b[0m                                  Traceback (most recent call last)",
      "\u001b[0;32m<ipython-input-317-baf741447ea8>\u001b[0m in \u001b[0;36m<module>\u001b[0;34m\u001b[0m\n\u001b[0;32m----> 1\u001b[0;31m \u001b[0mpagamentos\u001b[0m\u001b[0;34m[\u001b[0m\u001b[0mpagamentos\u001b[0m\u001b[0;34m[\u001b[0m\u001b[0;34m'numero'\u001b[0m\u001b[0;34m]\u001b[0m \u001b[0;34m==\u001b[0m \u001b[0;34m'440/14CP'\u001b[0m\u001b[0;34m]\u001b[0m\u001b[0;34m.\u001b[0m\u001b[0mhead\u001b[0m\u001b[0;34m(\u001b[0m\u001b[0;34m)\u001b[0m\u001b[0;34m\u001b[0m\u001b[0;34m\u001b[0m\u001b[0m\n\u001b[0m",
      "\u001b[0;32m~/.local/lib/python3.8/site-packages/pandas/core/frame.py\u001b[0m in \u001b[0;36m__getitem__\u001b[0;34m(self, key)\u001b[0m\n\u001b[1;32m   2798\u001b[0m             \u001b[0;32mif\u001b[0m \u001b[0mself\u001b[0m\u001b[0;34m.\u001b[0m\u001b[0mcolumns\u001b[0m\u001b[0;34m.\u001b[0m\u001b[0mnlevels\u001b[0m \u001b[0;34m>\u001b[0m \u001b[0;36m1\u001b[0m\u001b[0;34m:\u001b[0m\u001b[0;34m\u001b[0m\u001b[0;34m\u001b[0m\u001b[0m\n\u001b[1;32m   2799\u001b[0m                 \u001b[0;32mreturn\u001b[0m \u001b[0mself\u001b[0m\u001b[0;34m.\u001b[0m\u001b[0m_getitem_multilevel\u001b[0m\u001b[0;34m(\u001b[0m\u001b[0mkey\u001b[0m\u001b[0;34m)\u001b[0m\u001b[0;34m\u001b[0m\u001b[0;34m\u001b[0m\u001b[0m\n\u001b[0;32m-> 2800\u001b[0;31m             \u001b[0mindexer\u001b[0m \u001b[0;34m=\u001b[0m \u001b[0mself\u001b[0m\u001b[0;34m.\u001b[0m\u001b[0mcolumns\u001b[0m\u001b[0;34m.\u001b[0m\u001b[0mget_loc\u001b[0m\u001b[0;34m(\u001b[0m\u001b[0mkey\u001b[0m\u001b[0;34m)\u001b[0m\u001b[0;34m\u001b[0m\u001b[0;34m\u001b[0m\u001b[0m\n\u001b[0m\u001b[1;32m   2801\u001b[0m             \u001b[0;32mif\u001b[0m \u001b[0mis_integer\u001b[0m\u001b[0;34m(\u001b[0m\u001b[0mindexer\u001b[0m\u001b[0;34m)\u001b[0m\u001b[0;34m:\u001b[0m\u001b[0;34m\u001b[0m\u001b[0;34m\u001b[0m\u001b[0m\n\u001b[1;32m   2802\u001b[0m                 \u001b[0mindexer\u001b[0m \u001b[0;34m=\u001b[0m \u001b[0;34m[\u001b[0m\u001b[0mindexer\u001b[0m\u001b[0;34m]\u001b[0m\u001b[0;34m\u001b[0m\u001b[0;34m\u001b[0m\u001b[0m\n",
      "\u001b[0;32m~/.local/lib/python3.8/site-packages/pandas/core/indexes/base.py\u001b[0m in \u001b[0;36mget_loc\u001b[0;34m(self, key, method, tolerance)\u001b[0m\n\u001b[1;32m   2646\u001b[0m                 \u001b[0;32mreturn\u001b[0m \u001b[0mself\u001b[0m\u001b[0;34m.\u001b[0m\u001b[0m_engine\u001b[0m\u001b[0;34m.\u001b[0m\u001b[0mget_loc\u001b[0m\u001b[0;34m(\u001b[0m\u001b[0mkey\u001b[0m\u001b[0;34m)\u001b[0m\u001b[0;34m\u001b[0m\u001b[0;34m\u001b[0m\u001b[0m\n\u001b[1;32m   2647\u001b[0m             \u001b[0;32mexcept\u001b[0m \u001b[0mKeyError\u001b[0m\u001b[0;34m:\u001b[0m\u001b[0;34m\u001b[0m\u001b[0;34m\u001b[0m\u001b[0m\n\u001b[0;32m-> 2648\u001b[0;31m                 \u001b[0;32mreturn\u001b[0m \u001b[0mself\u001b[0m\u001b[0;34m.\u001b[0m\u001b[0m_engine\u001b[0m\u001b[0;34m.\u001b[0m\u001b[0mget_loc\u001b[0m\u001b[0;34m(\u001b[0m\u001b[0mself\u001b[0m\u001b[0;34m.\u001b[0m\u001b[0m_maybe_cast_indexer\u001b[0m\u001b[0;34m(\u001b[0m\u001b[0mkey\u001b[0m\u001b[0;34m)\u001b[0m\u001b[0;34m)\u001b[0m\u001b[0;34m\u001b[0m\u001b[0;34m\u001b[0m\u001b[0m\n\u001b[0m\u001b[1;32m   2649\u001b[0m         \u001b[0mindexer\u001b[0m \u001b[0;34m=\u001b[0m \u001b[0mself\u001b[0m\u001b[0;34m.\u001b[0m\u001b[0mget_indexer\u001b[0m\u001b[0;34m(\u001b[0m\u001b[0;34m[\u001b[0m\u001b[0mkey\u001b[0m\u001b[0;34m]\u001b[0m\u001b[0;34m,\u001b[0m \u001b[0mmethod\u001b[0m\u001b[0;34m=\u001b[0m\u001b[0mmethod\u001b[0m\u001b[0;34m,\u001b[0m \u001b[0mtolerance\u001b[0m\u001b[0;34m=\u001b[0m\u001b[0mtolerance\u001b[0m\u001b[0;34m)\u001b[0m\u001b[0;34m\u001b[0m\u001b[0;34m\u001b[0m\u001b[0m\n\u001b[1;32m   2650\u001b[0m         \u001b[0;32mif\u001b[0m \u001b[0mindexer\u001b[0m\u001b[0;34m.\u001b[0m\u001b[0mndim\u001b[0m \u001b[0;34m>\u001b[0m \u001b[0;36m1\u001b[0m \u001b[0;32mor\u001b[0m \u001b[0mindexer\u001b[0m\u001b[0;34m.\u001b[0m\u001b[0msize\u001b[0m \u001b[0;34m>\u001b[0m \u001b[0;36m1\u001b[0m\u001b[0;34m:\u001b[0m\u001b[0;34m\u001b[0m\u001b[0;34m\u001b[0m\u001b[0m\n",
      "\u001b[0;32mpandas/_libs/index.pyx\u001b[0m in \u001b[0;36mpandas._libs.index.IndexEngine.get_loc\u001b[0;34m()\u001b[0m\n",
      "\u001b[0;32mpandas/_libs/index.pyx\u001b[0m in \u001b[0;36mpandas._libs.index.IndexEngine.get_loc\u001b[0;34m()\u001b[0m\n",
      "\u001b[0;32mpandas/_libs/hashtable_class_helper.pxi\u001b[0m in \u001b[0;36mpandas._libs.hashtable.PyObjectHashTable.get_item\u001b[0;34m()\u001b[0m\n",
      "\u001b[0;32mpandas/_libs/hashtable_class_helper.pxi\u001b[0m in \u001b[0;36mpandas._libs.hashtable.PyObjectHashTable.get_item\u001b[0;34m()\u001b[0m\n",
      "\u001b[0;31mKeyError\u001b[0m: 'numero'"
     ]
    }
   ],
   "source": [
    "pagamentos[pagamentos['numero'] == '440/14CP'].head()"
   ]
  },
  {
   "cell_type": "code",
   "execution_count": 318,
   "metadata": {
    "tags": []
   },
   "outputs": [
    {
     "output_type": "error",
     "ename": "KeyError",
     "evalue": "'cpf_ou_cnpj'",
     "traceback": [
      "\u001b[0;31m---------------------------------------------------------------------------\u001b[0m",
      "\u001b[0;31mKeyError\u001b[0m                                  Traceback (most recent call last)",
      "\u001b[0;32m<ipython-input-318-96fd62221f6c>\u001b[0m in \u001b[0;36m<module>\u001b[0;34m\u001b[0m\n\u001b[1;32m      1\u001b[0m \u001b[0;31m# Conferindo discrepancia entre credores e cpf_ou_cnpj (documento)\u001b[0m\u001b[0;34m\u001b[0m\u001b[0;34m\u001b[0m\u001b[0;34m\u001b[0m\u001b[0m\n\u001b[0;32m----> 2\u001b[0;31m \u001b[0mcpf_group\u001b[0m \u001b[0;34m=\u001b[0m \u001b[0mpagamentos\u001b[0m\u001b[0;34m.\u001b[0m\u001b[0mgroupby\u001b[0m\u001b[0;34m(\u001b[0m\u001b[0;34m'cpf_ou_cnpj'\u001b[0m\u001b[0;34m)\u001b[0m\u001b[0;34m.\u001b[0m\u001b[0mnunique\u001b[0m\u001b[0;34m(\u001b[0m\u001b[0;34m)\u001b[0m\u001b[0;34m.\u001b[0m\u001b[0msort_values\u001b[0m\u001b[0;34m(\u001b[0m\u001b[0;34m'credor'\u001b[0m\u001b[0;34m,\u001b[0m \u001b[0mascending\u001b[0m\u001b[0;34m=\u001b[0m\u001b[0;32mFalse\u001b[0m\u001b[0;34m)\u001b[0m\u001b[0;34m\u001b[0m\u001b[0;34m\u001b[0m\u001b[0m\n\u001b[0m\u001b[1;32m      3\u001b[0m \u001b[0mcpf_group\u001b[0m\u001b[0;34m.\u001b[0m\u001b[0mhead\u001b[0m\u001b[0;34m(\u001b[0m\u001b[0;36m10\u001b[0m\u001b[0;34m)\u001b[0m\u001b[0;34m\u001b[0m\u001b[0;34m\u001b[0m\u001b[0m\n",
      "\u001b[0;32m~/.local/lib/python3.8/site-packages/pandas/core/frame.py\u001b[0m in \u001b[0;36mgroupby\u001b[0;34m(self, by, axis, level, as_index, sort, group_keys, squeeze, observed)\u001b[0m\n\u001b[1;32m   5799\u001b[0m         \u001b[0maxis\u001b[0m \u001b[0;34m=\u001b[0m \u001b[0mself\u001b[0m\u001b[0;34m.\u001b[0m\u001b[0m_get_axis_number\u001b[0m\u001b[0;34m(\u001b[0m\u001b[0maxis\u001b[0m\u001b[0;34m)\u001b[0m\u001b[0;34m\u001b[0m\u001b[0;34m\u001b[0m\u001b[0m\n\u001b[1;32m   5800\u001b[0m \u001b[0;34m\u001b[0m\u001b[0m\n\u001b[0;32m-> 5801\u001b[0;31m         return groupby_generic.DataFrameGroupBy(\n\u001b[0m\u001b[1;32m   5802\u001b[0m             \u001b[0mobj\u001b[0m\u001b[0;34m=\u001b[0m\u001b[0mself\u001b[0m\u001b[0;34m,\u001b[0m\u001b[0;34m\u001b[0m\u001b[0;34m\u001b[0m\u001b[0m\n\u001b[1;32m   5803\u001b[0m             \u001b[0mkeys\u001b[0m\u001b[0;34m=\u001b[0m\u001b[0mby\u001b[0m\u001b[0;34m,\u001b[0m\u001b[0;34m\u001b[0m\u001b[0;34m\u001b[0m\u001b[0m\n",
      "\u001b[0;32m~/.local/lib/python3.8/site-packages/pandas/core/groupby/groupby.py\u001b[0m in \u001b[0;36m__init__\u001b[0;34m(self, obj, keys, axis, level, grouper, exclusions, selection, as_index, sort, group_keys, squeeze, observed, mutated)\u001b[0m\n\u001b[1;32m    401\u001b[0m             \u001b[0;32mfrom\u001b[0m \u001b[0mpandas\u001b[0m\u001b[0;34m.\u001b[0m\u001b[0mcore\u001b[0m\u001b[0;34m.\u001b[0m\u001b[0mgroupby\u001b[0m\u001b[0;34m.\u001b[0m\u001b[0mgrouper\u001b[0m \u001b[0;32mimport\u001b[0m \u001b[0mget_grouper\u001b[0m\u001b[0;34m\u001b[0m\u001b[0;34m\u001b[0m\u001b[0m\n\u001b[1;32m    402\u001b[0m \u001b[0;34m\u001b[0m\u001b[0m\n\u001b[0;32m--> 403\u001b[0;31m             grouper, exclusions, obj = get_grouper(\n\u001b[0m\u001b[1;32m    404\u001b[0m                 \u001b[0mobj\u001b[0m\u001b[0;34m,\u001b[0m\u001b[0;34m\u001b[0m\u001b[0;34m\u001b[0m\u001b[0m\n\u001b[1;32m    405\u001b[0m                 \u001b[0mkeys\u001b[0m\u001b[0;34m,\u001b[0m\u001b[0;34m\u001b[0m\u001b[0;34m\u001b[0m\u001b[0m\n",
      "\u001b[0;32m~/.local/lib/python3.8/site-packages/pandas/core/groupby/grouper.py\u001b[0m in \u001b[0;36mget_grouper\u001b[0;34m(obj, key, axis, level, sort, observed, mutated, validate)\u001b[0m\n\u001b[1;32m    598\u001b[0m                 \u001b[0min_axis\u001b[0m\u001b[0;34m,\u001b[0m \u001b[0mname\u001b[0m\u001b[0;34m,\u001b[0m \u001b[0mlevel\u001b[0m\u001b[0;34m,\u001b[0m \u001b[0mgpr\u001b[0m \u001b[0;34m=\u001b[0m \u001b[0;32mFalse\u001b[0m\u001b[0;34m,\u001b[0m \u001b[0;32mNone\u001b[0m\u001b[0;34m,\u001b[0m \u001b[0mgpr\u001b[0m\u001b[0;34m,\u001b[0m \u001b[0;32mNone\u001b[0m\u001b[0;34m\u001b[0m\u001b[0;34m\u001b[0m\u001b[0m\n\u001b[1;32m    599\u001b[0m             \u001b[0;32melse\u001b[0m\u001b[0;34m:\u001b[0m\u001b[0;34m\u001b[0m\u001b[0;34m\u001b[0m\u001b[0m\n\u001b[0;32m--> 600\u001b[0;31m                 \u001b[0;32mraise\u001b[0m \u001b[0mKeyError\u001b[0m\u001b[0;34m(\u001b[0m\u001b[0mgpr\u001b[0m\u001b[0;34m)\u001b[0m\u001b[0;34m\u001b[0m\u001b[0;34m\u001b[0m\u001b[0m\n\u001b[0m\u001b[1;32m    601\u001b[0m         \u001b[0;32melif\u001b[0m \u001b[0misinstance\u001b[0m\u001b[0;34m(\u001b[0m\u001b[0mgpr\u001b[0m\u001b[0;34m,\u001b[0m \u001b[0mGrouper\u001b[0m\u001b[0;34m)\u001b[0m \u001b[0;32mand\u001b[0m \u001b[0mgpr\u001b[0m\u001b[0;34m.\u001b[0m\u001b[0mkey\u001b[0m \u001b[0;32mis\u001b[0m \u001b[0;32mnot\u001b[0m \u001b[0;32mNone\u001b[0m\u001b[0;34m:\u001b[0m\u001b[0;34m\u001b[0m\u001b[0;34m\u001b[0m\u001b[0m\n\u001b[1;32m    602\u001b[0m             \u001b[0;31m# Add key to exclusions\u001b[0m\u001b[0;34m\u001b[0m\u001b[0;34m\u001b[0m\u001b[0;34m\u001b[0m\u001b[0m\n",
      "\u001b[0;31mKeyError\u001b[0m: 'cpf_ou_cnpj'"
     ]
    }
   ],
   "source": [
    "# Conferindo discrepancia entre credores e cpf_ou_cnpj (documento)\n",
    "cpf_group = pagamentos.groupby('cpf_ou_cnpj').nunique().sort_values('credor', ascending=False)\n",
    "cpf_group.head(10)"
   ]
  },
  {
   "cell_type": "code",
   "execution_count": 319,
   "metadata": {},
   "outputs": [
    {
     "output_type": "error",
     "ename": "KeyError",
     "evalue": "'cpf_ou_cnpj'",
     "traceback": [
      "\u001b[0;31m---------------------------------------------------------------------------\u001b[0m",
      "\u001b[0;31mKeyError\u001b[0m                                  Traceback (most recent call last)",
      "\u001b[0;32m~/.local/lib/python3.8/site-packages/pandas/core/indexes/base.py\u001b[0m in \u001b[0;36mget_loc\u001b[0;34m(self, key, method, tolerance)\u001b[0m\n\u001b[1;32m   2645\u001b[0m             \u001b[0;32mtry\u001b[0m\u001b[0;34m:\u001b[0m\u001b[0;34m\u001b[0m\u001b[0;34m\u001b[0m\u001b[0m\n\u001b[0;32m-> 2646\u001b[0;31m                 \u001b[0;32mreturn\u001b[0m \u001b[0mself\u001b[0m\u001b[0;34m.\u001b[0m\u001b[0m_engine\u001b[0m\u001b[0;34m.\u001b[0m\u001b[0mget_loc\u001b[0m\u001b[0;34m(\u001b[0m\u001b[0mkey\u001b[0m\u001b[0;34m)\u001b[0m\u001b[0;34m\u001b[0m\u001b[0;34m\u001b[0m\u001b[0m\n\u001b[0m\u001b[1;32m   2647\u001b[0m             \u001b[0;32mexcept\u001b[0m \u001b[0mKeyError\u001b[0m\u001b[0;34m:\u001b[0m\u001b[0;34m\u001b[0m\u001b[0;34m\u001b[0m\u001b[0m\n",
      "\u001b[0;32mpandas/_libs/index.pyx\u001b[0m in \u001b[0;36mpandas._libs.index.IndexEngine.get_loc\u001b[0;34m()\u001b[0m\n",
      "\u001b[0;32mpandas/_libs/index.pyx\u001b[0m in \u001b[0;36mpandas._libs.index.IndexEngine.get_loc\u001b[0;34m()\u001b[0m\n",
      "\u001b[0;32mpandas/_libs/hashtable_class_helper.pxi\u001b[0m in \u001b[0;36mpandas._libs.hashtable.PyObjectHashTable.get_item\u001b[0;34m()\u001b[0m\n",
      "\u001b[0;32mpandas/_libs/hashtable_class_helper.pxi\u001b[0m in \u001b[0;36mpandas._libs.hashtable.PyObjectHashTable.get_item\u001b[0;34m()\u001b[0m\n",
      "\u001b[0;31mKeyError\u001b[0m: 'cpf_ou_cnpj'",
      "\nDuring handling of the above exception, another exception occurred:\n",
      "\u001b[0;31mKeyError\u001b[0m                                  Traceback (most recent call last)",
      "\u001b[0;32m<ipython-input-319-621868d627a5>\u001b[0m in \u001b[0;36m<module>\u001b[0;34m\u001b[0m\n\u001b[1;32m      1\u001b[0m \u001b[0;31m# Investigando cnpj com multiplos credores\u001b[0m\u001b[0;34m\u001b[0m\u001b[0;34m\u001b[0m\u001b[0;34m\u001b[0m\u001b[0m\n\u001b[0;32m----> 2\u001b[0;31m \u001b[0mcredor\u001b[0m \u001b[0;34m=\u001b[0m \u001b[0mpagamentos\u001b[0m\u001b[0;34m[\u001b[0m\u001b[0mpagamentos\u001b[0m\u001b[0;34m[\u001b[0m\u001b[0;34m'cpf_ou_cnpj'\u001b[0m\u001b[0;34m]\u001b[0m \u001b[0;34m==\u001b[0m \u001b[0;34m'07.520.940/0001-50'\u001b[0m\u001b[0;34m]\u001b[0m\u001b[0;34m\u001b[0m\u001b[0;34m\u001b[0m\u001b[0m\n\u001b[0m\u001b[1;32m      3\u001b[0m \u001b[0mcredor\u001b[0m\u001b[0;34m.\u001b[0m\u001b[0mgroupby\u001b[0m\u001b[0;34m(\u001b[0m\u001b[0;34m'credor'\u001b[0m\u001b[0;34m)\u001b[0m\u001b[0;34m.\u001b[0m\u001b[0mhead\u001b[0m\u001b[0;34m(\u001b[0m\u001b[0;34m)\u001b[0m\u001b[0;34m\u001b[0m\u001b[0;34m\u001b[0m\u001b[0m\n",
      "\u001b[0;32m~/.local/lib/python3.8/site-packages/pandas/core/frame.py\u001b[0m in \u001b[0;36m__getitem__\u001b[0;34m(self, key)\u001b[0m\n\u001b[1;32m   2798\u001b[0m             \u001b[0;32mif\u001b[0m \u001b[0mself\u001b[0m\u001b[0;34m.\u001b[0m\u001b[0mcolumns\u001b[0m\u001b[0;34m.\u001b[0m\u001b[0mnlevels\u001b[0m \u001b[0;34m>\u001b[0m \u001b[0;36m1\u001b[0m\u001b[0;34m:\u001b[0m\u001b[0;34m\u001b[0m\u001b[0;34m\u001b[0m\u001b[0m\n\u001b[1;32m   2799\u001b[0m                 \u001b[0;32mreturn\u001b[0m \u001b[0mself\u001b[0m\u001b[0;34m.\u001b[0m\u001b[0m_getitem_multilevel\u001b[0m\u001b[0;34m(\u001b[0m\u001b[0mkey\u001b[0m\u001b[0;34m)\u001b[0m\u001b[0;34m\u001b[0m\u001b[0;34m\u001b[0m\u001b[0m\n\u001b[0;32m-> 2800\u001b[0;31m             \u001b[0mindexer\u001b[0m \u001b[0;34m=\u001b[0m \u001b[0mself\u001b[0m\u001b[0;34m.\u001b[0m\u001b[0mcolumns\u001b[0m\u001b[0;34m.\u001b[0m\u001b[0mget_loc\u001b[0m\u001b[0;34m(\u001b[0m\u001b[0mkey\u001b[0m\u001b[0;34m)\u001b[0m\u001b[0;34m\u001b[0m\u001b[0;34m\u001b[0m\u001b[0m\n\u001b[0m\u001b[1;32m   2801\u001b[0m             \u001b[0;32mif\u001b[0m \u001b[0mis_integer\u001b[0m\u001b[0;34m(\u001b[0m\u001b[0mindexer\u001b[0m\u001b[0;34m)\u001b[0m\u001b[0;34m:\u001b[0m\u001b[0;34m\u001b[0m\u001b[0;34m\u001b[0m\u001b[0m\n\u001b[1;32m   2802\u001b[0m                 \u001b[0mindexer\u001b[0m \u001b[0;34m=\u001b[0m \u001b[0;34m[\u001b[0m\u001b[0mindexer\u001b[0m\u001b[0;34m]\u001b[0m\u001b[0;34m\u001b[0m\u001b[0;34m\u001b[0m\u001b[0m\n",
      "\u001b[0;32m~/.local/lib/python3.8/site-packages/pandas/core/indexes/base.py\u001b[0m in \u001b[0;36mget_loc\u001b[0;34m(self, key, method, tolerance)\u001b[0m\n\u001b[1;32m   2646\u001b[0m                 \u001b[0;32mreturn\u001b[0m \u001b[0mself\u001b[0m\u001b[0;34m.\u001b[0m\u001b[0m_engine\u001b[0m\u001b[0;34m.\u001b[0m\u001b[0mget_loc\u001b[0m\u001b[0;34m(\u001b[0m\u001b[0mkey\u001b[0m\u001b[0;34m)\u001b[0m\u001b[0;34m\u001b[0m\u001b[0;34m\u001b[0m\u001b[0m\n\u001b[1;32m   2647\u001b[0m             \u001b[0;32mexcept\u001b[0m \u001b[0mKeyError\u001b[0m\u001b[0;34m:\u001b[0m\u001b[0;34m\u001b[0m\u001b[0;34m\u001b[0m\u001b[0m\n\u001b[0;32m-> 2648\u001b[0;31m                 \u001b[0;32mreturn\u001b[0m \u001b[0mself\u001b[0m\u001b[0;34m.\u001b[0m\u001b[0m_engine\u001b[0m\u001b[0;34m.\u001b[0m\u001b[0mget_loc\u001b[0m\u001b[0;34m(\u001b[0m\u001b[0mself\u001b[0m\u001b[0;34m.\u001b[0m\u001b[0m_maybe_cast_indexer\u001b[0m\u001b[0;34m(\u001b[0m\u001b[0mkey\u001b[0m\u001b[0;34m)\u001b[0m\u001b[0;34m)\u001b[0m\u001b[0;34m\u001b[0m\u001b[0;34m\u001b[0m\u001b[0m\n\u001b[0m\u001b[1;32m   2649\u001b[0m         \u001b[0mindexer\u001b[0m \u001b[0;34m=\u001b[0m \u001b[0mself\u001b[0m\u001b[0;34m.\u001b[0m\u001b[0mget_indexer\u001b[0m\u001b[0;34m(\u001b[0m\u001b[0;34m[\u001b[0m\u001b[0mkey\u001b[0m\u001b[0;34m]\u001b[0m\u001b[0;34m,\u001b[0m \u001b[0mmethod\u001b[0m\u001b[0;34m=\u001b[0m\u001b[0mmethod\u001b[0m\u001b[0;34m,\u001b[0m \u001b[0mtolerance\u001b[0m\u001b[0;34m=\u001b[0m\u001b[0mtolerance\u001b[0m\u001b[0;34m)\u001b[0m\u001b[0;34m\u001b[0m\u001b[0;34m\u001b[0m\u001b[0m\n\u001b[1;32m   2650\u001b[0m         \u001b[0;32mif\u001b[0m \u001b[0mindexer\u001b[0m\u001b[0;34m.\u001b[0m\u001b[0mndim\u001b[0m \u001b[0;34m>\u001b[0m \u001b[0;36m1\u001b[0m \u001b[0;32mor\u001b[0m \u001b[0mindexer\u001b[0m\u001b[0;34m.\u001b[0m\u001b[0msize\u001b[0m \u001b[0;34m>\u001b[0m \u001b[0;36m1\u001b[0m\u001b[0;34m:\u001b[0m\u001b[0;34m\u001b[0m\u001b[0;34m\u001b[0m\u001b[0m\n",
      "\u001b[0;32mpandas/_libs/index.pyx\u001b[0m in \u001b[0;36mpandas._libs.index.IndexEngine.get_loc\u001b[0;34m()\u001b[0m\n",
      "\u001b[0;32mpandas/_libs/index.pyx\u001b[0m in \u001b[0;36mpandas._libs.index.IndexEngine.get_loc\u001b[0;34m()\u001b[0m\n",
      "\u001b[0;32mpandas/_libs/hashtable_class_helper.pxi\u001b[0m in \u001b[0;36mpandas._libs.hashtable.PyObjectHashTable.get_item\u001b[0;34m()\u001b[0m\n",
      "\u001b[0;32mpandas/_libs/hashtable_class_helper.pxi\u001b[0m in \u001b[0;36mpandas._libs.hashtable.PyObjectHashTable.get_item\u001b[0;34m()\u001b[0m\n",
      "\u001b[0;31mKeyError\u001b[0m: 'cpf_ou_cnpj'"
     ]
    }
   ],
   "source": [
    "# Investigando cnpj com multiplos credores \n",
    "credor = pagamentos[pagamentos['cpf_ou_cnpj'] == '07.520.940/0001-50']\n",
    "credor.groupby('credor').head()\n"
   ]
  },
  {
   "source": [
    "## Número de CPFs/CNPJs"
   ],
   "cell_type": "markdown",
   "metadata": {}
  },
  {
   "cell_type": "markdown",
   "metadata": {},
   "source": [
    "O CNPJ 14.043.574/0001-51 tem 169 credores inscritos sob ele. Este CNPJ é da Prefeitura.\n",
    "\n",
    "O CNPJ 01.404.357/0001-51 tem 154 e não parece ser um CNPJ válido tb.\n",
    "\n",
    "O CPF 000.000.000-00 tem 69 e não parece ser um CPF válido tb.\n",
    "\n",
    "O CNPJ 08.576.590/0001-07 tem 23 inscritos. É do Fundo de Saúde Municipal de Feira\n",
    "\n",
    "O CNPJ 00.857.659/0001-07 tem  19. Não achei origem.\n",
    "\n",
    "O CNPJ 07.520.940/0001-50 tem 18. É da Fundação Egberto Tavares.\n",
    "\n",
    "\n",
    "Difícil. Vale mais a pena agrupar pelo nome do credor do que pelo documento, que seria o certo."
   ]
  },
  {
   "source": [
    "## Pagamentos negativos\n",
    "\n",
    "Valores negativos fazem sentido pra pagamentos?\n",
    "\n",
    "Vamos tentar ter uma ideia melhor do que sejam estes pagamentos negativos:"
   ],
   "cell_type": "markdown",
   "metadata": {}
  },
  {
   "cell_type": "code",
   "execution_count": 1,
   "metadata": {},
   "outputs": [
    {
     "output_type": "error",
     "ename": "NameError",
     "evalue": "name 'raw_pagamentos' is not defined",
     "traceback": [
      "\u001b[0;31m---------------------------------------------------------------------------\u001b[0m",
      "\u001b[0;31mNameError\u001b[0m                                 Traceback (most recent call last)",
      "\u001b[0;32m<ipython-input-1-c4e1056eec60>\u001b[0m in \u001b[0;36m<module>\u001b[0;34m\u001b[0m\n\u001b[0;32m----> 1\u001b[0;31m \u001b[0mnegative_payments\u001b[0m \u001b[0;34m=\u001b[0m \u001b[0mraw_pagamentos\u001b[0m\u001b[0;34m[\u001b[0m\u001b[0mraw_pagamentos\u001b[0m\u001b[0;34m[\u001b[0m\u001b[0;34m'valor'\u001b[0m\u001b[0;34m]\u001b[0m \u001b[0;34m<\u001b[0m \u001b[0;36m0\u001b[0m\u001b[0;34m]\u001b[0m\u001b[0;34m\u001b[0m\u001b[0;34m\u001b[0m\u001b[0m\n\u001b[0m\u001b[1;32m      2\u001b[0m \u001b[0mprint\u001b[0m\u001b[0;34m(\u001b[0m\u001b[0mnegative_payments\u001b[0m\u001b[0;34m.\u001b[0m\u001b[0minfo\u001b[0m\u001b[0;34m(\u001b[0m\u001b[0;34m)\u001b[0m\u001b[0;34m)\u001b[0m\u001b[0;34m\u001b[0m\u001b[0;34m\u001b[0m\u001b[0m\n\u001b[1;32m      3\u001b[0m \u001b[0mnegative_payments\u001b[0m\u001b[0;34m\u001b[0m\u001b[0;34m\u001b[0m\u001b[0m\n",
      "\u001b[0;31mNameError\u001b[0m: name 'raw_pagamentos' is not defined"
     ]
    }
   ],
   "source": [
    "negative_payments = raw_pagamentos[raw_pagamentos['valor'] < 0]\n",
    "print(negative_payments.info())\n",
    "negative_payments"
   ]
  },
  {
   "source": [
    "Munidos dos numeros de processo, vamos ao [Portal da Transparência](http://www.transparencia.feiradesantana.ba.gov.br/index.php?view=despesa) conferir o que são estes valores.\n",
    "\n",
    "O primeiro, do Banco do Brasil, constam no mesmo dia 3 pagamentos: este negativo, outro de mesmo valor e positivo, outro de valor parecido e positivo. \n",
    "\n",
    "Será que quem registrou, registrou primeiro um valor errado, depois um valor igual e negativo (pra anular o errado) e depois um outro valor, dessa vez correto? Vamos olhar os outros pra ver se seguem este padrão\n",
    "\n",
    "O segundo, do IUNE -INST. DE. URO E NEFRO FSA, existem 10 pagamentos similares (5 de cada valor). Ao final, no balanço da conta, resta apenas um pagamento de cada valor. Parece corroborar com a hipótese anterior.\n",
    "\n",
    "O terceiro, de SIMOES ESTRELAS EMPREENDIMENTOS LTDA ME EPP, também segue o mesmo padrão. 5 pagamentos que, somados, correspondem a 1 pagamento de um valor.\n",
    "\n",
    "Vou considerar a hipótese como correta após estas 3 análises pra partir pra análise dos dados, o que não é ideal. No entanto, se cada um que ler este notebook analisar +3 credores / CNPJs e fizer um commit aqui incluindo a análise destes, ao final teremos uma análise correta sobre o que aconteceu.\n",
    "\n",
    "De acordo com esta hipótese, eu posso simplesmente descartar os valores negativos, pq foram usados apenas pra balancear entradas duplicadas ou erradas. Como as entradas duplicadas foram removidas (50.316 delas, inclusive), isto não constitui um problema. \n",
    "\n",
    "Seguiremos com as entradas erradas, no entanto, na fé que não alterem muito o resultado. No total, existem apenas 32 pagamentos negativos não repetidos no ano de 2018 (ano em análise). Dos 3 analisados, apenas o pagamento real (o balanço) do BB constituia um valor diferente, não repetido, do pagamento que foi cancelado. No final das contas teremos um pagamento duplicado do BB. Com sorte, foram poucos casos onde isso ocorreu.\n",
    "\n"
   ],
   "cell_type": "markdown",
   "metadata": {}
  }
 ],
 "metadata": {
  "language_info": {
   "codemirror_mode": {
    "name": "ipython",
    "version": 3
   },
   "file_extension": ".py",
   "mimetype": "text/x-python",
   "name": "python",
   "nbconvert_exporter": "python",
   "pygments_lexer": "ipython3",
   "version": "3.8.5-final"
  },
  "orig_nbformat": 2,
  "kernelspec": {
   "name": "python38264bit16b8003628b145c39b7161d6e18cffed",
   "display_name": "Python 3.8.2 64-bit"
  }
 },
 "nbformat": 4,
 "nbformat_minor": 2
}
